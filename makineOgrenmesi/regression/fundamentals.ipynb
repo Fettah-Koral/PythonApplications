{
 "cells": [
  {
   "cell_type": "code",
   "execution_count": 105,
   "metadata": {},
   "outputs": [],
   "source": [
    "import numpy as np "
   ]
  },
  {
   "cell_type": "code",
   "execution_count": 106,
   "metadata": {
    "collapsed": true,
    "jupyter": {
     "outputs_hidden": true
    }
   },
   "outputs": [
    {
     "data": {
      "text/plain": [
       "array([ 7441.17364304,  8215.35198959,  7645.91042649,  7949.94309492,\n",
       "        6106.2421407 ,  6040.60089815,  5619.68291698,  7575.57811707,\n",
       "        5260.2389411 ,  3957.69424412,  4545.78131281,  3358.33461893,\n",
       "        6957.7812889 ,  4436.16743823,  9374.10276397,  5966.89028309,\n",
       "        4557.17212533,  6371.30792011,   834.3255974 ,  6699.55718444,\n",
       "        5449.01327951,  4722.41481319,  5749.68803902,  7328.46764288,\n",
       "        5370.20647981,  2056.00685303,  5695.09431294,  2469.45383311,\n",
       "         -17.41416837,  4775.33243419,  4163.43006011,  6193.0126256 ,\n",
       "        3068.45172827,  7890.69851811,  6471.60444058,  7022.11583379,\n",
       "        6367.08164241,  3611.75318351,  6905.93283964,  4957.86203197,\n",
       "        7199.57631429,  5093.10047811,  4866.99388202,  1123.58222554,\n",
       "        5805.03891987,  6311.38037687,  8823.16397012,  6448.48078255,\n",
       "        4706.27390475,  2299.45439634,  3276.50325856,  1113.94024721,\n",
       "        2509.77775794,  5203.30394676,  1683.72597612,  3875.76465774,\n",
       "        7684.92093537,  5667.82427909,  3537.8545047 ,  1737.28453055,\n",
       "        4750.31890785,  3238.12551924,  4217.92819299,  6010.15332113,\n",
       "        2744.91370862,  4566.07568178,  1682.6287011 ,  3776.33518789,\n",
       "        4785.19870731,  7632.39281168,  5505.73956755,  6655.85994625,\n",
       "        8390.53005798,  4558.50617305,  3388.43689264,  4235.37818212,\n",
       "        5943.06614095,  2857.63741247,  5608.80554763,  4918.66519286,\n",
       "        7940.44616474,  5359.55083686,  5307.9705698 ,  2629.99474905,\n",
       "        4872.33129897,  3975.5419603 ,  8450.94359354,  3802.68328555,\n",
       "        7006.32546577,  3662.88958487,  1238.59491001,  8465.20867491,\n",
       "        6813.56115264,  4207.41582848,  2818.35093714,  3510.60484984,\n",
       "        6182.76802654,  2045.20982272,  3727.64973745,  4674.05591447,\n",
       "        4754.34875773,  6244.47973378,  3369.580801  ,  4570.80994636,\n",
       "        3840.0900509 ,  4917.49529165,  2253.05185428,  3750.52657602,\n",
       "        3202.66311773,  5319.60214152,  4404.09221392,  3200.1115929 ,\n",
       "        3131.3256658 ,  1663.70535494,  7755.88381306,  7124.06612726,\n",
       "        9437.12067872,  1561.7516364 ,  1984.67149109,  7436.93842793,\n",
       "        6674.4507009 ,  8435.03930019,  5474.30720384,  2952.92420586,\n",
       "        7012.04904124,  4560.70203587,  5936.21076044,  7325.66772008,\n",
       "        6324.99647055,  3275.89700726,  1114.85438872,  7700.72386538,\n",
       "        2475.62903378,  4852.97079658,  8022.84330432,  2318.61758835,\n",
       "        4069.77347878,  4075.6987669 ,  6533.86096978,  3772.47494588,\n",
       "        5810.30004062,  7411.44783644,  2462.19386277,  7119.85252674,\n",
       "        7026.68583812,  6088.16679129,  5805.85386389,  3831.09781128,\n",
       "        7020.40543648,  4524.18530814,  7087.29078934,  5235.55181737,\n",
       "        5906.81890692,  7384.7503655 ,  4619.46551824,  4791.52215463,\n",
       "        6909.92427124,  7482.24052691,  5651.895956  ,  4523.30357936,\n",
       "        4367.48336238,  3540.03181549,  3304.12096031,  7509.46865514,\n",
       "        3032.21326081,  7089.87447061,  4617.26598706,  3547.44260101,\n",
       "        1261.24185991,  3452.96197242,  2019.79814987,  6996.91748207,\n",
       "        5259.14739879,  5400.30879068,  3370.83436865,  7219.02324932,\n",
       "        5478.96808497,  8297.09362901,  5864.08976319,  6581.0433256 ,\n",
       "        7048.22418973,  6290.03815889,  4870.29935393,  5739.3660981 ,\n",
       "        4669.46666627,  5648.70429266,  7916.59923719,  6173.94610722,\n",
       "        4580.69401656,  3569.25617109,  5972.61923565,  5924.77050927,\n",
       "        4047.6293829 ,  4131.64363516,  4054.89454836,  5669.27116159,\n",
       "        5520.73351129,  6183.43940886,  5370.43642706,   223.18714806,\n",
       "        4767.14615739,  4607.06599127,  3640.87707752,  5997.06344118,\n",
       "        6356.61520126,  4295.06679263,  4777.91226701,  8950.49185232,\n",
       "        3401.02257171,  8003.441668  ,  6221.80317957,  7303.79773331,\n",
       "         689.7646463 ,  7281.13489943,  2990.42621092,  5379.03872936,\n",
       "        7282.21934982,  1657.68941362,  1505.74068271,  5215.25885108,\n",
       "        2895.70443817,  3610.31870698, 10588.4359707 ,  5909.8621644 ,\n",
       "        1731.1395803 ,  8409.96316   ,  7554.76217562,  4516.83656019,\n",
       "        3227.6906214 ,  4613.30135125,  1971.03424987,  3601.00866555,\n",
       "        5344.17609584,  3963.99142264,  5968.09516852,  4724.84765462,\n",
       "        2964.55722613,  5685.90530732,  3428.11318233,  1985.37414387,\n",
       "        5396.86043151,  7278.98774497,  4421.63662486,  3715.34491171,\n",
       "        5714.5620554 ,  3900.72534808,  7025.61232712,  3738.07225201,\n",
       "        4782.62890875,  2463.34316763,   137.3956492 ,  6896.67317057,\n",
       "        4938.71092529,  4916.62136272,  6054.47870459,  3301.2239478 ,\n",
       "        2812.90380588,  7201.51314121,  4881.16578828,  6656.09411287,\n",
       "        2698.8298732 ,  5375.95262946,  4748.84457261,  5492.52848223,\n",
       "        3479.02237733,  5852.76441849,  7683.14306425,   653.50134975,\n",
       "        7894.93823324,  3542.37648739,  6265.26856864,  4988.9619839 ,\n",
       "        4735.52779309,  3797.38124811,  4074.75418564,  4994.62488856,\n",
       "        5510.02754549,  5716.88917408,  8506.73673051,  3529.01217439,\n",
       "        7607.6214845 ,  5459.09383738,  7020.94404502,  1837.89678426,\n",
       "        7219.03580337,  7364.53414036,   587.61941989,  6873.40802574,\n",
       "        4891.32207317,  6774.29619275,  6077.9188745 ,  2185.9944701 ,\n",
       "        6508.73747622,  3606.66264662,   535.16529702,  3599.2838287 ,\n",
       "        1601.12237441,  6326.27117172,  5532.70749659,  3009.63457741,\n",
       "        5296.985612  ,  4208.87280911,  5220.83375777,  3838.94805838,\n",
       "        2343.29267596,   932.82392825,  3747.92895857,  5797.36420888,\n",
       "        4744.65364438,  5073.07923982,  7448.38236821,  3696.99079796,\n",
       "        5852.91159749,  7250.35199395,  5652.44569557,  1401.83993264,\n",
       "        6312.50551104,  7697.58927815,  4787.05473375,  3809.1889284 ,\n",
       "        5951.54226041,  4550.4204675 ,  5144.06458031,  4939.57560839,\n",
       "        2817.89670812,  9311.43781364,  5891.66030356,  9117.82596467,\n",
       "        4936.34976279,  2638.07811673,  5647.64810424,  5768.09050334,\n",
       "        6120.78307888,  5763.0824567 ,  3179.92460597,  5239.66118972,\n",
       "        3484.04979206,  4945.34832135,  6966.65290892,  2886.46990545,\n",
       "        3655.12791978,  6376.13867069,  3219.83557539,  3905.86891635,\n",
       "        7526.65471835,  6753.46679018, 10075.092619  ,  6370.33713679,\n",
       "        3574.3457165 ,  7733.97234408,  2797.05608932,  7881.77270913,\n",
       "        1183.9642622 ,  6193.08594356,  6823.5802062 ,  5398.92472693,\n",
       "          18.54216898,  4553.02526167,  2476.50748185,  4371.60336611,\n",
       "        3164.12732542,  7231.50421559,  6148.38512111,  3356.70053009,\n",
       "        1585.19035324,  7857.71844058,  5667.37816305,  6725.46961418,\n",
       "        6123.44409232,  3795.67324941,  3802.08683035,   208.88555683,\n",
       "        6390.1459644 ,  5916.07071731,  3282.34516098,  4620.10170956,\n",
       "        6859.8868234 ,   511.18938976,  6092.69448139,  4957.54195623,\n",
       "        4465.04697486,  7105.76271147,  4467.61748291,  2163.21595654,\n",
       "        5307.25782773,  7348.86657993,  8265.00101604,  6606.83607374,\n",
       "        8062.33185693,  6133.86205576,  5755.3207263 ,  2529.75857281,\n",
       "        5237.16961173,  4248.9107041 ,  5435.39301701,  3655.56970299,\n",
       "        8986.32490291,  5843.88609232,  4773.36852552,  3613.16967738,\n",
       "        8101.91395053,  2934.97487647,  1935.55721943,  5833.480665  ,\n",
       "        5262.16126467,  6095.28859604,  3931.92304245, -1273.02450459,\n",
       "        3442.22346007,  9041.15434248,  5129.34296253,  1200.27114432,\n",
       "        5008.03707304,  3593.12354827,  7669.27003018,  6064.6984276 ,\n",
       "        8439.37537478, -2106.4687617 ,  5501.76296359,  5050.11124886,\n",
       "        7164.17130945,  6035.68250418,  5050.94897621,  7335.23776523,\n",
       "        2524.97137767,  3641.05946217,  1520.44057514,  6229.32405547,\n",
       "        7272.39482508,  9432.67399322,  5713.92660746,  4691.1829896 ,\n",
       "        7111.98387687,  1544.38014908,  7602.84286407,  4663.23570887,\n",
       "        3500.26606768,  9122.34835816,  5932.85549198,   693.22682445,\n",
       "        3697.84780378,  3079.92225562,  3938.62278249,  1605.63768295,\n",
       "        8831.19561699,  3283.94457709,  4276.62910286,  4041.41636239,\n",
       "        4472.70912128,  3084.6227995 ,  7330.86008196,  2987.91874236,\n",
       "        2749.37620719,  6777.04046808,  6936.64566835,  3425.94334854,\n",
       "        2512.640357  ,  4276.18446735,  4977.12374834,  8070.4461443 ,\n",
       "        3933.98918606,  5035.38034104,  5993.52474302,  5778.47009593,\n",
       "         329.98025301,  3315.07043261,  3952.69683563,  7636.35736711,\n",
       "        5317.5261196 ,  7010.346665  ,  2804.9865985 ,  4853.1858067 ,\n",
       "        6409.81681621,  3530.27058126,  2959.35046327,  8322.29259603,\n",
       "        5388.54349477,  3487.13354287,  3514.06048727,  6979.00536077,\n",
       "        3816.23186939,  7274.56207962,  7644.78817618,  3894.69867372,\n",
       "        4795.95070731,  4348.96918285,  6190.41601462,  2627.83003361,\n",
       "        6650.10685255,  3786.94681127,  1726.00680856,  4274.34305128,\n",
       "        1527.31279516,  6249.51842245,  4338.93958246,  4537.46950895,\n",
       "        5146.2161125 ,  6133.23157581,  6272.92015317,  4998.95348461,\n",
       "        2999.28517446,  8217.36993952,  5381.30770444,  6387.9703141 ,\n",
       "        4596.62505921,  4140.13533208,  3277.62777612,  5555.47407622,\n",
       "        3205.79809456,  4302.4740419 ,  4953.57743839,  -401.9433851 ,\n",
       "        2858.52501255,  4523.72695681,  4225.96041882,  2630.07998676,\n",
       "        5380.44998223,  5187.39053202,  6932.38858664,  3129.3302154 ,\n",
       "        4419.23248321,  5592.30410891,  2879.84076571,  5147.02492589,\n",
       "        4142.49004334,    65.57252107,   614.70534865,  1699.97456182,\n",
       "        8671.28884021,  7955.04412507,  5930.87637853,  6341.02747402,\n",
       "        8079.48823238,  5208.21571542,  2830.03066414,  4668.08091143,\n",
       "         541.08519684,  2459.42481752,  5257.44151542,  2176.62824692,\n",
       "        5772.01150434,  6609.79133442,  1852.07020889,  4370.48191132,\n",
       "        6425.98498922,  6248.41257939,  2582.27882747,  5089.95414882,\n",
       "        1855.76156938,  5438.27075059,  7145.75562984,  6303.49638181,\n",
       "        7968.27250367,  8892.26647212,  2510.53439102,  5792.09729452,\n",
       "        3113.52804443,  5279.32827413,  4247.54040802,  3736.85505391,\n",
       "        7967.75527988,  4953.61077166,   294.9571481 ,  2908.45110761,\n",
       "        3216.74270887,  8247.32734932,   241.25170452,  4825.95442004,\n",
       "        8222.22086404,   211.13439483,  5821.97945267,  3735.18593884,\n",
       "        7342.57901837,  6714.11234518,  7024.14663779,  3237.18000921,\n",
       "        5319.23686681,  8845.4700323 ,  2232.55852697,  7816.38061675,\n",
       "        6011.37437113,  4716.44232064,  7501.49048212,  6694.29794654,\n",
       "        3768.56005901,  8786.22854232,  6642.14259792,  4893.71829055,\n",
       "        3772.73109302,  7637.67910497,  2155.68853244,  7576.7740335 ,\n",
       "       10152.76478573,  7541.82026176,  3813.49288795,  5789.80168106,\n",
       "        5027.00021651,  8613.64281426,  1728.48091674,  3939.14970649,\n",
       "        5001.42328373,  7068.54049532,  2362.23937128,  5438.69138585,\n",
       "        4792.97792553,  4840.24681374,  3200.15568176,  2567.21199381,\n",
       "        5224.67447631,  7606.70510185,   180.31156003,  -698.25433824,\n",
       "        4384.9709386 ,  5081.41406101,  2439.05612608,  6127.58636426,\n",
       "        4723.54587793,  2919.94507673,  3472.96485854, -2163.22724976,\n",
       "        7886.65149669,   -70.19339653,  5065.97633875,  6134.42919349,\n",
       "        4426.68399938,  7131.08128164,  6367.45973828,  2747.35305435,\n",
       "        3903.83506932,  9149.95556734,  4782.48326705,  4895.4060481 ,\n",
       "       10318.37916103,  4990.5350831 ,  5247.33530215,  6694.116265  ,\n",
       "         408.14273644,  6636.10386575,  2690.88024611,  3448.15766304,\n",
       "        6660.44207769,  5222.07061377,  5997.02352885,  1533.96750146,\n",
       "        4340.63972183,  5628.60156759,  1869.91377272,  5020.91553279,\n",
       "        4739.20598658,  4707.48087646,  6656.17094168,  7031.72910169,\n",
       "        1836.75482815,  6365.05586693,  4325.91869512,  1091.65378256,\n",
       "        8033.80644013,  8023.86034212,  7512.27048969,  5707.73182995,\n",
       "        4429.89603898,  7723.15632686,  3673.68757349,  6583.25021308,\n",
       "         433.67848679,  4837.99421171,   801.4356705 ,  9542.73012918,\n",
       "         647.82862123,  7136.53137183,  5844.60101588,  8299.1971182 ,\n",
       "        8458.36643151,  6942.41368251,  3574.13922435,  4415.96552268,\n",
       "        5897.07174103,  6617.79059277,  6977.64791973,  2359.75845777,\n",
       "        3201.34382662,  5254.20580294,  4720.55238375,  5521.01316686,\n",
       "        4144.99805233,  5187.12327945,  5610.41788669,  5070.70156182,\n",
       "        3133.94806487,  4347.50646605,  5238.93858633,  3407.54326338,\n",
       "        2005.44918159,  3394.27367465,  6880.30435107,  5165.66260856,\n",
       "        9596.82899412,  5642.93213651,  2142.69570605,  2667.92131232,\n",
       "         636.16913213,  7300.91036654,  9782.89460187,  8441.88126862,\n",
       "        4763.73351079,  4222.03706569,  7840.05076782,  6203.41736063,\n",
       "        5104.71989276,  2604.85435913,   133.97249248,  3112.90328474,\n",
       "        5301.40061885,  5355.89479319,  8266.06829193,  5876.76401965,\n",
       "        7510.20621832,  9170.78633903,  4726.89284361,  6131.64092801,\n",
       "         780.42833743,  7189.57779262,  5881.61858502,  7181.65156075,\n",
       "        1460.82219036,  6739.20637325,  2555.7060522 ,  5053.27490503,\n",
       "        5069.92686905,  6345.64910063,  4673.55399744,  4970.23007928,\n",
       "        7301.85590569,  5221.49019221,  7348.03911224,  4484.39850168,\n",
       "        8643.60545007,  1250.80876108,  6289.03988309,  5126.01708256,\n",
       "        5482.37601383,  6865.96716844,  5451.68731666,  6885.40593536,\n",
       "        6746.77500227,  6326.63459509,  3266.26150901,  -999.77081906,\n",
       "        3691.61679339,  5687.60242503,  8126.76163238,  4614.24398056,\n",
       "        7181.1971817 ,  2469.6547921 ,  4740.26360335,  6051.71429798,\n",
       "        5679.65146872,  2204.98343193,  6574.07204715,  8060.81139117,\n",
       "        4097.97638193,  6227.83941862,  7682.65867044,  5592.46775503,\n",
       "        7073.32728724,  3028.31959792,  4372.69865803,   727.23323444,\n",
       "        2481.96889417,  5919.91229363,  4932.41860164,  1500.41852177,\n",
       "        2103.30492156,  3266.19811354,  5327.09136517,  6218.77674638,\n",
       "        2627.77087249,  7035.98403642,  3975.761844  ,  7087.99326416,\n",
       "        5039.95410425,  2351.58878453,  3786.3909594 ,  2158.84483628,\n",
       "        3354.0076051 ,  6893.80414007,  7992.3674458 ,  6102.64589099,\n",
       "        4678.08439651,  7827.48265706,  1263.78709286,  6180.76031293,\n",
       "        3132.22954499,  5960.0293639 ,  1299.69389301,  6665.47394191,\n",
       "        6573.12931189,  6477.83977032,  4522.14943829,  5476.92796125,\n",
       "        2517.46575292,  6913.67630585,  4806.20023344,  4451.74241442,\n",
       "        2451.86398252,  4547.83589081,  6190.27105299,  3727.76563828,\n",
       "        4105.80043538,  5816.66167786,  4732.18966312,  6164.11059732,\n",
       "       11573.09223335,  5649.9072014 ,  5983.46300113,  2676.15262   ,\n",
       "        4532.26083454,  2638.56127515,  1863.67363172,  3003.43917954,\n",
       "        2909.85489458,  4272.30461035,  5974.78852546,  5970.8350927 ,\n",
       "        3664.30084424,  2007.50899908,  6837.88425931,  3453.25134522,\n",
       "        9484.5749991 ,  3465.0108242 ,  7712.98380197,  1349.06926431,\n",
       "        8477.91193193,  7060.91015573,  9081.96440614,  6348.29905723,\n",
       "        7451.91742754,  6409.17094651,  7611.44337052,  4106.27283141,\n",
       "        5739.05669046,  4639.06787743,  9010.14034238,   915.21393675,\n",
       "        5448.96987566,  6271.00388488,  6314.61605394,  4186.24542245,\n",
       "        8337.39874945,  3608.51946441,  3474.5578048 ,  2692.90977224,\n",
       "        3013.75378718,  1408.94408316,  5304.81058265,  3967.6132698 ,\n",
       "        3249.47420815,  3474.88703107,  2422.53788355,  5432.07421216,\n",
       "        5861.17680513,  4498.54648265,  6212.62850567,  3725.89868663,\n",
       "        8031.19628766,  4796.63038287,  8358.27984693,  1079.29157663,\n",
       "        3492.64980417,  4309.00092891,  6975.73395137,  2947.1550605 ,\n",
       "        6463.06444263,  4256.76530741,  5127.27442121,  8238.23661141,\n",
       "        3868.59183141,  5573.64991896,  2913.62029912,  5546.92914572,\n",
       "        2445.59996511,  3022.54532577,  5095.10464919,  2837.49453606,\n",
       "        8631.08313395,  5096.74026611, 12955.4154562 ,  4885.57866197,\n",
       "        7011.28698655,  5001.92274063,  7324.55765828,  9749.75254042,\n",
       "        6027.99135024,  8129.057952  ,  9877.33041037,  3477.47063184,\n",
       "        2081.76819383,  5686.7592671 ,  6528.95262671,  5429.02953209,\n",
       "        5612.79797387,  2100.57015657,  5108.0158832 ,  3335.36162124,\n",
       "        4566.24277308,  5410.99974682,  6795.25597924,  6221.91597574,\n",
       "        3416.00820954,  7224.29253601,  3900.43962164,  6552.75606689,\n",
       "        3262.6292184 ,  8273.07162562,  4216.0445873 ,  4393.72095221,\n",
       "        8779.00846353,  5581.44527882,  3525.25343803,  6474.02436017,\n",
       "        6447.46709909,  1305.45910649,  9438.95194097,  3317.89054031,\n",
       "        4109.59129384,  3376.68852776,  3496.79382975,  5122.6474611 ,\n",
       "        5412.07472435,  4403.35465688,  6292.5998466 ,  1926.65092434,\n",
       "        4725.65969555,  8198.58638101,  7174.350245  ,  4922.50560993,\n",
       "        3165.6107839 ,  3613.44268458,  3928.39269039,  7047.32983581,\n",
       "        5726.12196406,  9314.50459174,  3606.50709316,  5489.40436219,\n",
       "        3517.17278487,  4966.26307599,  5556.08113125,  3958.54935508,\n",
       "        -238.151973  ,  4934.28980958,  4969.16693601,  4871.0082448 ,\n",
       "        6399.26517632,  8522.44276223,  5743.50427318,  3834.71129493,\n",
       "        5569.22973894,  3865.63437359,  4753.34938747,  3623.83942045,\n",
       "        3361.02681789,   958.71766343,   996.09299643,  3078.14121574,\n",
       "        3425.62728899,  6835.82120466,  8145.5214468 ,  2503.18397916,\n",
       "        7040.20837799,  2432.47668033,  6178.60192355,  6067.79935848,\n",
       "        3202.63183078,  2073.41511101,  4636.90941291,  3705.4015357 ,\n",
       "        5802.73084827,  1653.77511416,  4853.22469645,  3141.29090829,\n",
       "        4562.20473875,  5515.77911064,  6317.83659438,  7270.44817458,\n",
       "        3496.00724011,  5683.87442508,  7238.27635644,  3948.91319408,\n",
       "        6291.09829191,  1529.58815763,  4052.42318028,  4310.33174239,\n",
       "        7344.61625446,  1865.38147975,  2554.21804454,  3626.91916344,\n",
       "        5003.8831125 ,  8932.62579294,  6442.52522406,  8425.49119958])"
      ]
     },
     "execution_count": 106,
     "metadata": {},
     "output_type": "execute_result"
    }
   ],
   "source": [
    "gelirler = np.random.normal(5000,2000,1000)\n",
    "gelirler"
   ]
  },
  {
   "cell_type": "code",
   "execution_count": 107,
   "metadata": {},
   "outputs": [
    {
     "data": {
      "text/plain": [
       "4964.356380608791"
      ]
     },
     "execution_count": 107,
     "metadata": {},
     "output_type": "execute_result"
    }
   ],
   "source": [
    "gelirler.mean()"
   ]
  },
  {
   "cell_type": "code",
   "execution_count": 108,
   "metadata": {},
   "outputs": [],
   "source": [
    "import matplotlib.pyplot as plt"
   ]
  },
  {
   "cell_type": "code",
   "execution_count": 109,
   "metadata": {},
   "outputs": [
    {
     "data": {
      "image/png": "[encoded data removed]",
      "text/plain": [
       "<Figure size 432x288 with 1 Axes>"
      ]
     },
     "metadata": {
      "needs_background": "light"
     },
     "output_type": "display_data"
    }
   ],
   "source": [
    "plt.hist(gelirler,100)\n",
    "plt.show()"
   ]
  },
  {
   "cell_type": "code",
   "execution_count": 110,
   "metadata": {},
   "outputs": [
    {
     "data": {
      "text/plain": [
       "5000.188384168408"
      ]
     },
     "execution_count": 110,
     "metadata": {},
     "output_type": "execute_result"
    }
   ],
   "source": [
    "np.median(gelirler)"
   ]
  },
  {
   "cell_type": "code",
   "execution_count": 111,
   "metadata": {},
   "outputs": [
    {
     "data": {
      "text/plain": [
       "4964.356380608791"
      ]
     },
     "execution_count": 111,
     "metadata": {},
     "output_type": "execute_result"
    }
   ],
   "source": [
    "np.mean(gelirler)"
   ]
  },
  {
   "cell_type": "code",
   "execution_count": 112,
   "metadata": {},
   "outputs": [],
   "source": [
    "gelirler =np.append(gelirler,[100_000_000])"
   ]
  },
  {
   "cell_type": "code",
   "execution_count": 113,
   "metadata": {},
   "outputs": [
    {
     "data": {
      "text/plain": [
       "array([7.44117364e+03, 8.21535199e+03, 7.64591043e+03, ...,\n",
       "       6.44252522e+03, 8.42549120e+03, 1.00000000e+08])"
      ]
     },
     "execution_count": 113,
     "metadata": {},
     "output_type": "execute_result"
    }
   ],
   "source": [
    "gelirler"
   ]
  },
  {
   "cell_type": "code",
   "execution_count": 114,
   "metadata": {},
   "outputs": [
    {
     "data": {
      "text/plain": [
       "104859.49688372508"
      ]
     },
     "execution_count": 114,
     "metadata": {},
     "output_type": "execute_result"
    }
   ],
   "source": [
    "np.mean(gelirler)"
   ]
  },
  {
   "cell_type": "code",
   "execution_count": 115,
   "metadata": {},
   "outputs": [
    {
     "data": {
      "text/plain": [
       "5001.4232837258705"
      ]
     },
     "execution_count": 115,
     "metadata": {},
     "output_type": "execute_result"
    }
   ],
   "source": [
    "np.median(gelirler)"
   ]
  },
  {
   "cell_type": "code",
   "execution_count": 116,
   "metadata": {},
   "outputs": [
    {
     "data": {
      "text/plain": [
       "ModeResult(mode=array([-2163.22724976]), count=array([1]))"
      ]
     },
     "execution_count": 116,
     "metadata": {},
     "output_type": "execute_result"
    }
   ],
   "source": [
    "stats.mode(gelirler)"
   ]
  },
  {
   "cell_type": "code",
   "execution_count": 117,
   "metadata": {
    "collapsed": true,
    "jupyter": {
     "outputs_hidden": true
    }
   },
   "outputs": [
    {
     "data": {
      "text/plain": [
       "array([13, 17, 13, 15,  9, 14, 11, 17, 11, 16, 12,  7, 12, 15, 14, 10, 11,\n",
       "       15,  7, 17, 15,  7, 11, 12, 16, 11, 15,  7, 15, 14,  8,  8, 12, 12,\n",
       "       11,  7, 17,  7, 17, 11,  7,  9,  8,  8, 10, 12, 13, 16, 10,  9, 15,\n",
       "       13, 16, 12, 15,  9, 17, 11, 16,  9, 13, 13, 17, 10, 16, 15, 11, 14,\n",
       "       13, 14, 17, 14, 13, 13, 12, 15, 12, 16, 14, 16, 15, 17,  9, 14, 17,\n",
       "        7,  7, 13, 14,  8,  8, 16, 17, 16, 16,  9, 10,  8, 12, 15, 15,  8,\n",
       "       17, 11, 14,  7,  7, 13, 12, 15, 11, 16, 15, 10, 15, 14, 11,  8, 10,\n",
       "       17, 14, 15, 10, 16,  8,  8, 11, 10, 10, 17, 13,  9, 13,  8,  7, 17,\n",
       "       14, 17,  8,  8,  7,  8, 16,  9,  8,  9, 10,  7,  9, 13, 13,  9, 13,\n",
       "       12, 14, 15, 12, 15, 10,  7, 15, 15, 11,  9, 15, 11, 16, 14, 13, 17,\n",
       "       16,  7, 14,  9,  9,  7,  7, 16,  7, 16, 10, 11, 14, 16, 13, 12, 12,\n",
       "       14, 10, 11, 16, 10, 14, 12, 13,  9, 17, 17, 17, 13, 14, 13, 14,  8,\n",
       "       15, 17, 14, 15, 13, 11, 14, 10, 15,  9,  9,  7, 13, 13,  7,  7, 11,\n",
       "       17, 17, 17, 12,  7,  9, 10, 11,  8, 11, 13, 16, 13, 10, 16, 10, 10,\n",
       "        9,  8, 11, 17, 11, 15,  9, 13, 17,  9, 16, 15, 16, 16,  7,  9, 15,\n",
       "       11,  9, 14,  9, 10, 17,  8, 12,  9, 10, 17,  9, 13, 15, 17,  7, 12,\n",
       "       15, 17, 13, 16, 12, 12,  7,  7, 12,  8, 11, 17, 11,  8, 12, 16, 13,\n",
       "       11, 11, 14, 17, 11,  7,  9, 17, 15, 17, 12])"
      ]
     },
     "execution_count": 117,
     "metadata": {},
     "output_type": "execute_result"
    }
   ],
   "source": [
    "yaslar=np.random.randint(7,18,size=300)\n",
    "yaslar"
   ]
  },
  {
   "cell_type": "code",
   "execution_count": 118,
   "metadata": {},
   "outputs": [
    {
     "data": {
      "text/plain": [
       "17"
      ]
     },
     "execution_count": 118,
     "metadata": {},
     "output_type": "execute_result"
    }
   ],
   "source": [
    "import statistics\n",
    "statistics.mode(yaslar)"
   ]
  },
  {
   "cell_type": "code",
   "execution_count": 119,
   "metadata": {},
   "outputs": [
    {
     "data": {
      "image/png": "[encoded data removed]",
      "text/plain": [
       "<Figure size 432x288 with 1 Axes>"
      ]
     },
     "metadata": {
      "needs_background": "light"
     },
     "output_type": "display_data"
    }
   ],
   "source": [
    "plt.hist(yaslar,50)\n",
    "plt.show()"
   ]
  },
  {
   "cell_type": "code",
   "execution_count": 120,
   "metadata": {},
   "outputs": [
    {
     "data": {
      "text/plain": [
       "12.0"
      ]
     },
     "execution_count": 120,
     "metadata": {},
     "output_type": "execute_result"
    }
   ],
   "source": [
    "np.median(yaslar)"
   ]
  },
  {
   "cell_type": "code",
   "execution_count": 71,
   "metadata": {},
   "outputs": [
    {
     "data": {
      "text/plain": [
       "12.086666666666666"
      ]
     },
     "execution_count": 71,
     "metadata": {},
     "output_type": "execute_result"
    }
   ],
   "source": [
    "yaslar.mean()"
   ]
  },
  {
   "cell_type": "code",
   "execution_count": 128,
   "metadata": {},
   "outputs": [
    {
     "data": {
      "text/plain": [
       "7441.173643039935"
      ]
     },
     "execution_count": 128,
     "metadata": {},
     "output_type": "execute_result"
    }
   ],
   "source": [
    "statistics.mode(gelirler)"
   ]
  },
  {
   "cell_type": "code",
   "execution_count": 130,
   "metadata": {},
   "outputs": [],
   "source": [
    "gelirler = np.random.normal(5000,2000,1000)"
   ]
  },
  {
   "cell_type": "code",
   "execution_count": 131,
   "metadata": {},
   "outputs": [
    {
     "data": {
      "text/plain": [
       "3971867.4676564266"
      ]
     },
     "execution_count": 131,
     "metadata": {},
     "output_type": "execute_result"
    }
   ],
   "source": [
    "gelirler.var()"
   ]
  },
  {
   "cell_type": "code",
   "execution_count": 132,
   "metadata": {},
   "outputs": [
    {
     "data": {
      "text/plain": [
       "1992.954456995048"
      ]
     },
     "execution_count": 132,
     "metadata": {},
     "output_type": "execute_result"
    }
   ],
   "source": [
    "gelirler.std()"
   ]
  },
  {
   "cell_type": "code",
   "execution_count": 135,
   "metadata": {},
   "outputs": [
    {
     "data": {
      "text/plain": [
       "3971650.41"
      ]
     },
     "execution_count": 135,
     "metadata": {},
     "output_type": "execute_result"
    }
   ],
   "source": [
    "1992.9**2"
   ]
  },
  {
   "cell_type": "code",
   "execution_count": null,
   "metadata": {},
   "outputs": [],
   "source": []
  }
 ],
 "metadata": {
  "kernelspec": {
   "display_name": "Python 3",
   "language": "python",
   "name": "python3"
  },
  "language_info": {
   "codemirror_mode": {
    "name": "ipython",
    "version": 3
   },
   "file_extension": ".py",
   "mimetype": "text/x-python",
   "name": "python",
   "nbconvert_exporter": "python",
   "pygments_lexer": "ipython3",
   "version": "3.8.3"
  }
 },
 "nbformat": 4,
 "nbformat_minor": 4
}
