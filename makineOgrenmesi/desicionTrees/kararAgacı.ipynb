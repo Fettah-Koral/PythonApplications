{
 "cells": [
  {
   "cell_type": "code",
   "execution_count": 9,
   "metadata": {},
   "outputs": [],
   "source": [
    "import pandas as pd\n",
    "import numpy as np\n"
   ]
  },
  {
   "cell_type": "code",
   "execution_count": 10,
   "metadata": {},
   "outputs": [],
   "source": [
    "dataset=pd.read_excel(\"test.xlsx\")\n",
    "df=pd.DataFrame(dataset)"
   ]
  },
  {
   "cell_type": "code",
   "execution_count": 11,
   "metadata": {
    "jupyter": {
     "source_hidden": true
    }
   },
   "outputs": [],
   "source": [
    "df.drop(index=102,inplace=True)"
   ]
  },
  {
   "cell_type": "code",
   "execution_count": 12,
   "metadata": {},
   "outputs": [],
   "source": [
    "df.dropna(inplace=True)"
   ]
  },
  {
   "cell_type": "code",
   "execution_count": 13,
   "metadata": {},
   "outputs": [
    {
     "data": {
      "text/plain": [
       "(89, 19)"
      ]
     },
     "execution_count": 13,
     "metadata": {},
     "output_type": "execute_result"
    }
   ],
   "source": [
    "df.shape"
   ]
  },
  {
   "cell_type": "code",
   "execution_count": 14,
   "metadata": {},
   "outputs": [
    {
     "name": "stdout",
     "output_type": "stream",
     "text": [
      "<class 'pandas.core.frame.DataFrame'>\n",
      "Int64Index: 89 entries, 0 to 98\n",
      "Data columns (total 19 columns):\n",
      " #   Column          Non-Null Count  Dtype  \n",
      "---  ------          --------------  -----  \n",
      " 0   Cinsiyet ?      89 non-null     float64\n",
      " 1   bölüm           89 non-null     object \n",
      " 2   lisans dr.      89 non-null     object \n",
      " 3   Üni. Yıl        89 non-null     float64\n",
      " 4   Öğretim         89 non-null     object \n",
      " 5   h_içi çaışma    89 non-null     float64\n",
      " 6   h_sonu çaışma   89 non-null     object \n",
      " 7   not çıkarma     89 non-null     float64\n",
      " 8   uygulama        89 non-null     float64\n",
      " 9   tekrar          89 non-null     float64\n",
      " 10  çıkmış sorular  89 non-null     float64\n",
      " 11  renklendirmek   89 non-null     float64\n",
      " 12  Alttan ders     89 non-null     object \n",
      " 13  not tutma       89 non-null     object \n",
      " 14  uyku            89 non-null     object \n",
      " 15  devam oranı     89 non-null     float64\n",
      " 16  verim           89 non-null     object \n",
      " 17  çalışma tarzı   89 non-null     object \n",
      " 18  Gano            89 non-null     float64\n",
      "dtypes: float64(10), object(9)\n",
      "memory usage: 13.9+ KB\n"
     ]
    }
   ],
   "source": [
    "df.info()"
   ]
  },
  {
   "cell_type": "code",
   "execution_count": 15,
   "metadata": {},
   "outputs": [],
   "source": [
    "X=df.iloc[:,:18].values\n",
    "y=df.iloc[:,18].values"
   ]
  },
  {
   "cell_type": "code",
   "execution_count": 16,
   "metadata": {},
   "outputs": [],
   "source": [
    "from sklearn.model_selection import train_test_split as parcala"
   ]
  },
  {
   "cell_type": "code",
   "execution_count": 17,
   "metadata": {},
   "outputs": [],
   "source": [
    "X_train,X_test,y_train,y_test = parcala(X,y,test_size=0.25,random_state=0)"
   ]
  },
  {
   "cell_type": "code",
   "execution_count": 18,
   "metadata": {},
   "outputs": [],
   "source": [
    "y_train=y_train.astype(int)   \n",
    "y_test=y_test.astype(int)\n",
    "\n",
    "X_train=X_train.astype(int)   \n",
    "X_test=X_test.astype(int)\n",
    "\n",
    "# Standardize etme  (x-mu)/sigma\n",
    "from sklearn.preprocessing import StandardScaler\n",
    "sc = StandardScaler()\n",
    "X_train = sc.fit_transform(X_train)\n",
    "X_test = sc.transform(X_test)\n"
   ]
  },
  {
   "cell_type": "code",
   "execution_count": 360,
   "metadata": {},
   "outputs": [],
   "source": [
    "from sklearn.tree import DecisionTreeClassifier\n",
    "from sklearn import tree\n"
   ]
  },
  {
   "cell_type": "code",
   "execution_count": 378,
   "metadata": {},
   "outputs": [
    {
     "data": {
      "text/plain": [
       "[Text(200.88000000000002, 181.2, 'X[12] <= 1.269\\ngini = 0.351\\nsamples = 66\\nvalue = [15, 51]'),\n",
       " Text(133.92000000000002, 108.72, 'X[5] <= -1.418\\ngini = 0.188\\nsamples = 57\\nvalue = [6, 51]'),\n",
       " Text(66.96000000000001, 36.23999999999998, 'gini = 0.0\\nsamples = 2\\nvalue = [2, 0]'),\n",
       " Text(200.88000000000002, 36.23999999999998, 'gini = 0.135\\nsamples = 55\\nvalue = [4, 51]'),\n",
       " Text(267.84000000000003, 108.72, 'gini = 0.0\\nsamples = 9\\nvalue = [9, 0]')]"
      ]
     },
     "execution_count": 378,
     "metadata": {},
     "output_type": "execute_result"
    },
    {
     "data": {
      "image/png": "[encoded data removed]",
      "text/plain": [
       "<Figure size 432x288 with 1 Axes>"
      ]
     },
     "metadata": {
      "needs_background": "light"
     },
     "output_type": "display_data"
    }
   ],
   "source": [
    "kararAgacı = DecisionTreeClassifier()\n",
    "kararAgacı = DecisionTreeClassifier(min_impurity_decrease=0.05)\n",
    "# kararAgacı = DecisionTreeClassifier(max_depth=3)\n",
    "kararAgacı = kararAgacı.fit(X_train,y_train)\n",
    "tree.plot_tree(kararAgacı)"
   ]
  },
  {
   "cell_type": "code",
   "execution_count": 379,
   "metadata": {},
   "outputs": [
    {
     "name": "stdout",
     "output_type": "stream",
     "text": [
      "|--- feature_12 <= 1.27\n",
      "|   |--- feature_5 <= -1.42\n",
      "|   |   |--- class: 0\n",
      "|   |--- feature_5 >  -1.42\n",
      "|   |   |--- class: 1\n",
      "|--- feature_12 >  1.27\n",
      "|   |--- class: 0\n",
      "\n"
     ]
    }
   ],
   "source": [
    "kurallar= tree.export_text(kararAgacı)\n",
    "print(kurallar)\n"
   ]
  },
  {
   "cell_type": "code",
   "execution_count": 380,
   "metadata": {},
   "outputs": [
    {
     "name": "stdout",
     "output_type": "stream",
     "text": [
      "[0 1 1 1 1 1 1 1 1 1 0 1 1 1 0 1 1 0 1 1 1 0 0]\n"
     ]
    }
   ],
   "source": [
    "# Tahmin\n",
    "y_pred = kararAgacı.predict(X_test)\n",
    "print(y_pred)"
   ]
  },
  {
   "cell_type": "code",
   "execution_count": 381,
   "metadata": {},
   "outputs": [
    {
     "name": "stdout",
     "output_type": "stream",
     "text": [
      "\n",
      "Confusion matris\n",
      " [[ 6  1]\n",
      " [ 0 16]]\n"
     ]
    }
   ],
   "source": [
    "# confision matris\n",
    "from sklearn.metrics import confusion_matrix\n",
    "cm=confusion_matrix(y_test,y_pred)\n",
    "print(\"\\nConfusion matris\\n\",cm) # 1 kere gozlemliyor"
   ]
  },
  {
   "cell_type": "code",
   "execution_count": 375,
   "metadata": {},
   "outputs": [],
   "source": [
    "from sklearn.model_selection import cross_val_score"
   ]
  },
  {
   "cell_type": "code",
   "execution_count": 376,
   "metadata": {},
   "outputs": [
    {
     "name": "stdout",
     "output_type": "stream",
     "text": [
      "0.825\n",
      "0.11873172373979174\n"
     ]
    }
   ],
   "source": [
    "basari = cross_val_score(estimator = kararAgacı, X=X_test, y=y_test , cv = 4)# katman sayısı kadar terarlanıp ort almıs\n",
    "\n",
    "\n",
    "print(basari.mean()) \n",
    "print(basari.std())"
   ]
  },
  {
   "cell_type": "code",
   "execution_count": 377,
   "metadata": {},
   "outputs": [
    {
     "name": "stdout",
     "output_type": "stream",
     "text": [
      "[0 1 1 1 1 1 1 1 1 1 0 1 1 1 1 1 1 0 1 1 1 1 1]\n",
      "[0 1 1 1 1 1 1 1 1 1 0 1 1 0 0 1 1 0 1 1 1 0 0]\n"
     ]
    }
   ],
   "source": [
    "print(y_pred)\n",
    "print(y_test)"
   ]
  },
  {
   "cell_type": "code",
   "execution_count": null,
   "metadata": {},
   "outputs": [],
   "source": []
  },
  {
   "cell_type": "code",
   "execution_count": 382,
   "metadata": {},
   "outputs": [
    {
     "name": "stdout",
     "output_type": "stream",
     "text": [
      "\n",
      "Ortalama basarı oranı :  0.825\n",
      "\n",
      "standart sapma :  0.11873172373979174\n"
     ]
    }
   ],
   "source": [
    "print(\"\\nOrtalama basarı oranı : \",basari.mean())\n",
    "print(\"\\nstandart sapma : \",basari.std())\n"
   ]
  },
  {
   "cell_type": "code",
   "execution_count": null,
   "metadata": {},
   "outputs": [],
   "source": []
  }
 ],
 "metadata": {
  "kernelspec": {
   "display_name": "Python 3",
   "language": "python",
   "name": "python3"
  },
  "language_info": {
   "codemirror_mode": {
    "name": "ipython",
    "version": 3
   },
   "file_extension": ".py",
   "mimetype": "text/x-python",
   "name": "python",
   "nbconvert_exporter": "python",
   "pygments_lexer": "ipython3",
   "version": "3.8.3"
  }
 },
 "nbformat": 4,
 "nbformat_minor": 4
}
